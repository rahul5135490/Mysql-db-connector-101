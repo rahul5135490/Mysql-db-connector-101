{
 "cells": [
  {
   "cell_type": "code",
   "execution_count": 28,
   "id": "5e2c5a58",
   "metadata": {},
   "outputs": [],
   "source": [
    "import mysql.connector"
   ]
  },
  {
   "cell_type": "code",
   "execution_count": 29,
   "id": "d7132ad7",
   "metadata": {},
   "outputs": [],
   "source": [
    "mydb=mysql.connector.connect(\n",
    "  host=\"localhost\",\n",
    "  user=\"root\",\n",
    "  password=\"Sudha@123\")\n"
   ]
  },
  {
   "cell_type": "code",
   "execution_count": 30,
   "id": "6c0e4233",
   "metadata": {},
   "outputs": [
    {
     "name": "stdout",
     "output_type": "stream",
     "text": [
      "<mysql.connector.connection_cext.CMySQLConnection object at 0x0000015BAD4927F0>\n"
     ]
    }
   ],
   "source": [
    "print(mydb)"
   ]
  },
  {
   "cell_type": "code",
   "execution_count": 31,
   "id": "542fb15c",
   "metadata": {},
   "outputs": [],
   "source": [
    "mydb=mysql.connector.connect(\n",
    "  host=\"localhost\",\n",
    "  user=\"root\",\n",
    "  password=\"Sudha@123\",\n",
    "  database=\"edureka\")"
   ]
  },
  {
   "cell_type": "code",
   "execution_count": 32,
   "id": "3ab02b74",
   "metadata": {},
   "outputs": [
    {
     "name": "stdout",
     "output_type": "stream",
     "text": [
      "('emp',)\n",
      "('emp_data',)\n",
      "('emp_data2',)\n",
      "('student',)\n"
     ]
    }
   ],
   "source": [
    "mycursor=mydb.cursor()\n",
    "\n",
    "mycursor.execute(\"SHOW TABLES\")\n",
    "\n",
    "for x in mycursor:\n",
    "    print(x)"
   ]
  },
  {
   "cell_type": "code",
   "execution_count": 33,
   "id": "48235afd",
   "metadata": {},
   "outputs": [
    {
     "name": "stdout",
     "output_type": "stream",
     "text": [
      "(10001, 'Ramanna ji', datetime.date(1946, 1, 22), 'Dhobhi ghat')\n",
      "(10002, 'Ramannajum ji', datetime.date(1966, 11, 21), 'Dhobhi ghat')\n",
      "(10003, 'Ramannakutti ji', datetime.date(1996, 10, 7), 'Dhobhi ghat')\n",
      "(10004, 'Ramanna Pratap ji', datetime.date(1986, 12, 2), 'Dhobhi ghat')\n",
      "(10005, 'Ratan', datetime.date(1946, 1, 22), 'Mumbai')\n",
      "(10006, 'Raniji', datetime.date(1966, 11, 21), 'Mumbai')\n",
      "(10007, 'Ramani ji', datetime.date(1996, 10, 7), 'Delhi')\n",
      "(10008, 'Raman ji', datetime.date(1986, 12, 2), 'Delhi')\n"
     ]
    }
   ],
   "source": [
    "mycursor.execute(\"SELECT * FROM emp_data2\")\n",
    "\n",
    "myresult=mycursor.fetchall()\n",
    "\n",
    "for x in myresult:\n",
    "    print(x)"
   ]
  },
  {
   "cell_type": "code",
   "execution_count": 35,
   "id": "1a671e0c",
   "metadata": {},
   "outputs": [
    {
     "name": "stdout",
     "output_type": "stream",
     "text": [
      "(10008, 'Raman ji', datetime.date(1986, 12, 2), 'Delhi')\n",
      "(10007, 'Ramani ji', datetime.date(1996, 10, 7), 'Delhi')\n",
      "(10006, 'Raniji', datetime.date(1966, 11, 21), 'Mumbai')\n",
      "(10005, 'Ratan', datetime.date(1946, 1, 22), 'Mumbai')\n",
      "(10004, 'Ramanna Pratap ji', datetime.date(1986, 12, 2), 'Dhobhi ghat')\n",
      "(10003, 'Ramannakutti ji', datetime.date(1996, 10, 7), 'Dhobhi ghat')\n",
      "(10002, 'Ramannajum ji', datetime.date(1966, 11, 21), 'Dhobhi ghat')\n",
      "(10001, 'Ramanna ji', datetime.date(1946, 1, 22), 'Dhobhi ghat')\n"
     ]
    }
   ],
   "source": [
    "mycursor.execute(\"SELECT * FROM emp_data2 ORDER BY id DESC\")\n",
    "\n",
    "myresult=mycursor.fetchall()\n",
    "\n",
    "for x in myresult:\n",
    "    print(x)"
   ]
  },
  {
   "cell_type": "code",
   "execution_count": null,
   "id": "84bf2128",
   "metadata": {},
   "outputs": [],
   "source": []
  }
 ],
 "metadata": {
  "kernelspec": {
   "display_name": "Python 3 (ipykernel)",
   "language": "python",
   "name": "python3"
  },
  "language_info": {
   "codemirror_mode": {
    "name": "ipython",
    "version": 3
   },
   "file_extension": ".py",
   "mimetype": "text/x-python",
   "name": "python",
   "nbconvert_exporter": "python",
   "pygments_lexer": "ipython3",
   "version": "3.9.13"
  }
 },
 "nbformat": 4,
 "nbformat_minor": 5
}
